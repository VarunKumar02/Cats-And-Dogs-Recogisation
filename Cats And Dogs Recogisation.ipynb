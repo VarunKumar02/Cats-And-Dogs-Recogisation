{
 "cells": [
  {
   "cell_type": "code",
   "execution_count": 1,
   "id": "1d06c5b0",
   "metadata": {
    "execution": {
     "iopub.execute_input": "2022-02-18T11:04:20.815638Z",
     "iopub.status.busy": "2022-02-18T11:04:20.814860Z",
     "iopub.status.idle": "2022-02-18T11:04:25.669796Z",
     "shell.execute_reply": "2022-02-18T11:04:25.669144Z",
     "shell.execute_reply.started": "2022-02-18T10:55:10.308556Z"
    },
    "papermill": {
     "duration": 4.883205,
     "end_time": "2022-02-18T11:04:25.669971",
     "exception": false,
     "start_time": "2022-02-18T11:04:20.786766",
     "status": "completed"
    },
    "tags": []
   },
   "outputs": [],
   "source": [
    "import tensorflow as tf\n",
    "from keras.preprocessing.image import ImageDataGenerator"
   ]
  },
  {
   "cell_type": "markdown",
   "id": "a02e873a",
   "metadata": {
    "execution": {
     "iopub.execute_input": "2022-02-18T10:19:42.921829Z",
     "iopub.status.busy": "2022-02-18T10:19:42.921576Z",
     "iopub.status.idle": "2022-02-18T10:19:42.927159Z",
     "shell.execute_reply": "2022-02-18T10:19:42.926151Z",
     "shell.execute_reply.started": "2022-02-18T10:19:42.921799Z"
    },
    "papermill": {
     "duration": 0.016401,
     "end_time": "2022-02-18T11:04:25.704791",
     "exception": false,
     "start_time": "2022-02-18T11:04:25.688390",
     "status": "completed"
    },
    "tags": []
   },
   "source": [
    "### Generating Images from our training and test set"
   ]
  },
  {
   "cell_type": "code",
   "execution_count": 2,
   "id": "28c13593",
   "metadata": {
    "execution": {
     "iopub.execute_input": "2022-02-18T11:04:25.742334Z",
     "iopub.status.busy": "2022-02-18T11:04:25.741553Z",
     "iopub.status.idle": "2022-02-18T11:04:25.743620Z",
     "shell.execute_reply": "2022-02-18T11:04:25.744007Z",
     "shell.execute_reply.started": "2022-02-18T10:55:15.688781Z"
    },
    "papermill": {
     "duration": 0.022923,
     "end_time": "2022-02-18T11:04:25.744139",
     "exception": false,
     "start_time": "2022-02-18T11:04:25.721216",
     "status": "completed"
    },
    "tags": []
   },
   "outputs": [],
   "source": [
    "train_datagen = ImageDataGenerator(rescale = 1/255)"
   ]
  },
  {
   "cell_type": "code",
   "execution_count": 3,
   "id": "b73fcb9f",
   "metadata": {
    "execution": {
     "iopub.execute_input": "2022-02-18T11:04:25.779562Z",
     "iopub.status.busy": "2022-02-18T11:04:25.778737Z",
     "iopub.status.idle": "2022-02-18T11:04:28.664713Z",
     "shell.execute_reply": "2022-02-18T11:04:28.665304Z",
     "shell.execute_reply.started": "2022-02-18T10:55:15.696662Z"
    },
    "papermill": {
     "duration": 2.905326,
     "end_time": "2022-02-18T11:04:28.665496",
     "exception": false,
     "start_time": "2022-02-18T11:04:25.760170",
     "status": "completed"
    },
    "tags": []
   },
   "outputs": [
    {
     "name": "stdout",
     "output_type": "stream",
     "text": [
      "Found 8005 images belonging to 2 classes.\n"
     ]
    }
   ],
   "source": [
    "train_set = train_datagen.flow_from_directory('../input/cat-and-dog/training_set/training_set',target_size=(64,64),batch_size=32,\n",
    "                                              class_mode='binary')"
   ]
  },
  {
   "cell_type": "code",
   "execution_count": 4,
   "id": "8ccfbc6d",
   "metadata": {
    "execution": {
     "iopub.execute_input": "2022-02-18T11:04:28.704615Z",
     "iopub.status.busy": "2022-02-18T11:04:28.703313Z",
     "iopub.status.idle": "2022-02-18T11:04:29.017117Z",
     "shell.execute_reply": "2022-02-18T11:04:29.017780Z",
     "shell.execute_reply.started": "2022-02-18T10:55:19.397639Z"
    },
    "papermill": {
     "duration": 0.334407,
     "end_time": "2022-02-18T11:04:29.017936",
     "exception": false,
     "start_time": "2022-02-18T11:04:28.683529",
     "status": "completed"
    },
    "tags": []
   },
   "outputs": [
    {
     "name": "stdout",
     "output_type": "stream",
     "text": [
      "Found 2023 images belonging to 2 classes.\n"
     ]
    }
   ],
   "source": [
    "test_datagen = ImageDataGenerator(rescale=1/255)\n",
    "test_set = test_datagen.flow_from_directory('../input/cat-and-dog/test_set/test_set',target_size=(64,64),batch_size=32,\n",
    "                                              class_mode='binary')"
   ]
  },
  {
   "cell_type": "code",
   "execution_count": 5,
   "id": "e4d86233",
   "metadata": {
    "execution": {
     "iopub.execute_input": "2022-02-18T11:04:29.056748Z",
     "iopub.status.busy": "2022-02-18T11:04:29.056197Z",
     "iopub.status.idle": "2022-02-18T11:04:31.235951Z",
     "shell.execute_reply": "2022-02-18T11:04:31.236448Z",
     "shell.execute_reply.started": "2022-02-18T10:55:19.720729Z"
    },
    "papermill": {
     "duration": 2.201173,
     "end_time": "2022-02-18T11:04:31.236628",
     "exception": false,
     "start_time": "2022-02-18T11:04:29.035455",
     "status": "completed"
    },
    "tags": []
   },
   "outputs": [
    {
     "name": "stderr",
     "output_type": "stream",
     "text": [
      "2022-02-18 11:04:29.125303: I tensorflow/stream_executor/cuda/cuda_gpu_executor.cc:937] successful NUMA node read from SysFS had negative value (-1), but there must be at least one NUMA node, so returning NUMA node zero\n",
      "2022-02-18 11:04:29.205869: I tensorflow/stream_executor/cuda/cuda_gpu_executor.cc:937] successful NUMA node read from SysFS had negative value (-1), but there must be at least one NUMA node, so returning NUMA node zero\n",
      "2022-02-18 11:04:29.206516: I tensorflow/stream_executor/cuda/cuda_gpu_executor.cc:937] successful NUMA node read from SysFS had negative value (-1), but there must be at least one NUMA node, so returning NUMA node zero\n",
      "2022-02-18 11:04:29.207716: I tensorflow/core/platform/cpu_feature_guard.cc:142] This TensorFlow binary is optimized with oneAPI Deep Neural Network Library (oneDNN) to use the following CPU instructions in performance-critical operations:  AVX2 AVX512F FMA\n",
      "To enable them in other operations, rebuild TensorFlow with the appropriate compiler flags.\n",
      "2022-02-18 11:04:29.208423: I tensorflow/stream_executor/cuda/cuda_gpu_executor.cc:937] successful NUMA node read from SysFS had negative value (-1), but there must be at least one NUMA node, so returning NUMA node zero\n",
      "2022-02-18 11:04:29.209114: I tensorflow/stream_executor/cuda/cuda_gpu_executor.cc:937] successful NUMA node read from SysFS had negative value (-1), but there must be at least one NUMA node, so returning NUMA node zero\n",
      "2022-02-18 11:04:29.209772: I tensorflow/stream_executor/cuda/cuda_gpu_executor.cc:937] successful NUMA node read from SysFS had negative value (-1), but there must be at least one NUMA node, so returning NUMA node zero\n",
      "2022-02-18 11:04:30.918181: I tensorflow/stream_executor/cuda/cuda_gpu_executor.cc:937] successful NUMA node read from SysFS had negative value (-1), but there must be at least one NUMA node, so returning NUMA node zero\n",
      "2022-02-18 11:04:30.919006: I tensorflow/stream_executor/cuda/cuda_gpu_executor.cc:937] successful NUMA node read from SysFS had negative value (-1), but there must be at least one NUMA node, so returning NUMA node zero\n",
      "2022-02-18 11:04:30.919713: I tensorflow/stream_executor/cuda/cuda_gpu_executor.cc:937] successful NUMA node read from SysFS had negative value (-1), but there must be at least one NUMA node, so returning NUMA node zero\n",
      "2022-02-18 11:04:30.920383: I tensorflow/core/common_runtime/gpu/gpu_device.cc:1510] Created device /job:localhost/replica:0/task:0/device:GPU:0 with 15403 MB memory:  -> device: 0, name: Tesla P100-PCIE-16GB, pci bus id: 0000:00:04.0, compute capability: 6.0\n"
     ]
    }
   ],
   "source": [
    "cnn = tf.keras.models.Sequential()"
   ]
  },
  {
   "cell_type": "code",
   "execution_count": 6,
   "id": "aa9e8387",
   "metadata": {
    "execution": {
     "iopub.execute_input": "2022-02-18T11:04:31.278012Z",
     "iopub.status.busy": "2022-02-18T11:04:31.277124Z",
     "iopub.status.idle": "2022-02-18T11:04:31.288276Z",
     "shell.execute_reply": "2022-02-18T11:04:31.287774Z",
     "shell.execute_reply.started": "2022-02-18T10:55:22.045207Z"
    },
    "papermill": {
     "duration": 0.032892,
     "end_time": "2022-02-18T11:04:31.288401",
     "exception": false,
     "start_time": "2022-02-18T11:04:31.255509",
     "status": "completed"
    },
    "tags": []
   },
   "outputs": [],
   "source": [
    "# Convolution\n",
    "cnn.add(tf.keras.layers.Conv2D(filters=32,kernel_size=3,activation='relu'))"
   ]
  },
  {
   "cell_type": "code",
   "execution_count": 7,
   "id": "a4b7311e",
   "metadata": {
    "execution": {
     "iopub.execute_input": "2022-02-18T11:04:31.347441Z",
     "iopub.status.busy": "2022-02-18T11:04:31.346432Z",
     "iopub.status.idle": "2022-02-18T11:04:31.348521Z",
     "shell.execute_reply": "2022-02-18T11:04:31.349018Z",
     "shell.execute_reply.started": "2022-02-18T10:55:22.057179Z"
    },
    "papermill": {
     "duration": 0.030599,
     "end_time": "2022-02-18T11:04:31.349181",
     "exception": false,
     "start_time": "2022-02-18T11:04:31.318582",
     "status": "completed"
    },
    "tags": []
   },
   "outputs": [],
   "source": [
    "#Pooling\n",
    "cnn.add(tf.keras.layers.MaxPool2D(pool_size=2,strides=2))"
   ]
  },
  {
   "cell_type": "code",
   "execution_count": 8,
   "id": "79cb5491",
   "metadata": {
    "execution": {
     "iopub.execute_input": "2022-02-18T11:04:31.395550Z",
     "iopub.status.busy": "2022-02-18T11:04:31.394722Z",
     "iopub.status.idle": "2022-02-18T11:04:31.396653Z",
     "shell.execute_reply": "2022-02-18T11:04:31.397085Z",
     "shell.execute_reply.started": "2022-02-18T10:55:22.067353Z"
    },
    "papermill": {
     "duration": 0.027085,
     "end_time": "2022-02-18T11:04:31.397220",
     "exception": false,
     "start_time": "2022-02-18T11:04:31.370135",
     "status": "completed"
    },
    "tags": []
   },
   "outputs": [],
   "source": [
    "cnn.add(tf.keras.layers.Flatten())"
   ]
  },
  {
   "cell_type": "code",
   "execution_count": 9,
   "id": "8a5cb54d",
   "metadata": {
    "execution": {
     "iopub.execute_input": "2022-02-18T11:04:31.438755Z",
     "iopub.status.busy": "2022-02-18T11:04:31.437913Z",
     "iopub.status.idle": "2022-02-18T11:04:31.439908Z",
     "shell.execute_reply": "2022-02-18T11:04:31.440318Z",
     "shell.execute_reply.started": "2022-02-18T10:55:22.076858Z"
    },
    "papermill": {
     "duration": 0.025576,
     "end_time": "2022-02-18T11:04:31.440466",
     "exception": false,
     "start_time": "2022-02-18T11:04:31.414890",
     "status": "completed"
    },
    "tags": []
   },
   "outputs": [],
   "source": [
    "#Full connection\n",
    "cnn.add(tf.keras.layers.Dense(units=128,activation='relu'))"
   ]
  },
  {
   "cell_type": "code",
   "execution_count": 10,
   "id": "c8ccc888",
   "metadata": {
    "execution": {
     "iopub.execute_input": "2022-02-18T11:04:31.482204Z",
     "iopub.status.busy": "2022-02-18T11:04:31.481399Z",
     "iopub.status.idle": "2022-02-18T11:04:31.483786Z",
     "shell.execute_reply": "2022-02-18T11:04:31.483349Z",
     "shell.execute_reply.started": "2022-02-18T10:55:22.090742Z"
    },
    "papermill": {
     "duration": 0.025525,
     "end_time": "2022-02-18T11:04:31.483900",
     "exception": false,
     "start_time": "2022-02-18T11:04:31.458375",
     "status": "completed"
    },
    "tags": []
   },
   "outputs": [],
   "source": [
    "#Output Layer and compile\n",
    "cnn.add(tf.keras.layers.Dense(units=1,activation='sigmoid'))"
   ]
  },
  {
   "cell_type": "code",
   "execution_count": 11,
   "id": "05f446dd",
   "metadata": {
    "execution": {
     "iopub.execute_input": "2022-02-18T11:04:31.533015Z",
     "iopub.status.busy": "2022-02-18T11:04:31.532300Z",
     "iopub.status.idle": "2022-02-18T11:04:31.540276Z",
     "shell.execute_reply": "2022-02-18T11:04:31.539793Z",
     "shell.execute_reply.started": "2022-02-18T10:55:22.098616Z"
    },
    "papermill": {
     "duration": 0.038647,
     "end_time": "2022-02-18T11:04:31.540405",
     "exception": false,
     "start_time": "2022-02-18T11:04:31.501758",
     "status": "completed"
    },
    "tags": []
   },
   "outputs": [],
   "source": [
    "#Compiling the CNN\n",
    "cnn.compile(optimizer='adam',loss='binary_crossentropy',metrics='accuracy')"
   ]
  },
  {
   "cell_type": "code",
   "execution_count": 12,
   "id": "a468b8a9",
   "metadata": {
    "execution": {
     "iopub.execute_input": "2022-02-18T11:04:31.582569Z",
     "iopub.status.busy": "2022-02-18T11:04:31.581891Z",
     "iopub.status.idle": "2022-02-18T11:08:05.564062Z",
     "shell.execute_reply": "2022-02-18T11:08:05.563617Z",
     "shell.execute_reply.started": "2022-02-18T10:55:22.120125Z"
    },
    "papermill": {
     "duration": 214.005332,
     "end_time": "2022-02-18T11:08:05.564205",
     "exception": false,
     "start_time": "2022-02-18T11:04:31.558873",
     "status": "completed"
    },
    "tags": []
   },
   "outputs": [
    {
     "name": "stderr",
     "output_type": "stream",
     "text": [
      "2022-02-18 11:04:32.521355: I tensorflow/stream_executor/cuda/cuda_dnn.cc:369] Loaded cuDNN version 8005\n",
      "2022-02-18 11:04:37.583959: I tensorflow/compiler/mlir/mlir_graph_optimization_pass.cc:185] None of the MLIR Optimization Passes are enabled (registered 2)\n"
     ]
    },
    {
     "name": "stdout",
     "output_type": "stream",
     "text": [
      "Epoch 1/5\n",
      "251/251 [==============================] - 62s 246ms/step - loss: 0.6469 - accuracy: 0.6386 - val_loss: 0.6024 - val_accuracy: 0.6846\n",
      "Epoch 2/5\n",
      "251/251 [==============================] - 29s 114ms/step - loss: 0.5272 - accuracy: 0.7368 - val_loss: 0.5613 - val_accuracy: 0.7197\n",
      "Epoch 3/5\n",
      "251/251 [==============================] - 28s 112ms/step - loss: 0.4520 - accuracy: 0.7874 - val_loss: 0.5728 - val_accuracy: 0.7197\n",
      "Epoch 4/5\n",
      "251/251 [==============================] - 28s 111ms/step - loss: 0.3691 - accuracy: 0.8385 - val_loss: 0.6087 - val_accuracy: 0.7138\n",
      "Epoch 5/5\n",
      "251/251 [==============================] - 29s 114ms/step - loss: 0.2708 - accuracy: 0.8866 - val_loss: 0.6543 - val_accuracy: 0.7291\n"
     ]
    },
    {
     "data": {
      "text/plain": [
       "<keras.callbacks.History at 0x7fa22c220e90>"
      ]
     },
     "execution_count": 12,
     "metadata": {},
     "output_type": "execute_result"
    }
   ],
   "source": [
    "#Running the CNN\n",
    "cnn.fit(x=train_set,validation_data=test_set,epochs=5)"
   ]
  },
  {
   "cell_type": "code",
   "execution_count": 13,
   "id": "961beeb5",
   "metadata": {
    "execution": {
     "iopub.execute_input": "2022-02-18T11:08:06.388000Z",
     "iopub.status.busy": "2022-02-18T11:08:06.387036Z",
     "iopub.status.idle": "2022-02-18T11:08:06.389078Z",
     "shell.execute_reply": "2022-02-18T11:08:06.389644Z",
     "shell.execute_reply.started": "2022-02-18T10:58:47.099714Z"
    },
    "papermill": {
     "duration": 0.415719,
     "end_time": "2022-02-18T11:08:06.389784",
     "exception": false,
     "start_time": "2022-02-18T11:08:05.974065",
     "status": "completed"
    },
    "tags": []
   },
   "outputs": [],
   "source": [
    "import numpy as np\n",
    "from keras.preprocessing import image"
   ]
  },
  {
   "cell_type": "code",
   "execution_count": 14,
   "id": "282290fc",
   "metadata": {
    "execution": {
     "iopub.execute_input": "2022-02-18T11:08:07.211700Z",
     "iopub.status.busy": "2022-02-18T11:08:07.211162Z",
     "iopub.status.idle": "2022-02-18T11:08:07.216656Z",
     "shell.execute_reply": "2022-02-18T11:08:07.217046Z",
     "shell.execute_reply.started": "2022-02-18T10:58:47.105207Z"
    },
    "papermill": {
     "duration": 0.419662,
     "end_time": "2022-02-18T11:08:07.217188",
     "exception": false,
     "start_time": "2022-02-18T11:08:06.797526",
     "status": "completed"
    },
    "tags": []
   },
   "outputs": [],
   "source": [
    "val_image = image.load_img('../input/cat-and-dog/test_set/test_set/cats/cat.4007.jpg',target_size=(64,64))\n",
    "val_image = image.img_to_array(val_image)\n",
    "val_image = np.expand_dims(val_image,axis=0)"
   ]
  },
  {
   "cell_type": "code",
   "execution_count": 15,
   "id": "a7549f47",
   "metadata": {
    "execution": {
     "iopub.execute_input": "2022-02-18T11:08:08.039396Z",
     "iopub.status.busy": "2022-02-18T11:08:08.038474Z",
     "iopub.status.idle": "2022-02-18T11:08:08.164613Z",
     "shell.execute_reply": "2022-02-18T11:08:08.165016Z",
     "shell.execute_reply.started": "2022-02-18T10:58:47.121608Z"
    },
    "papermill": {
     "duration": 0.539591,
     "end_time": "2022-02-18T11:08:08.165168",
     "exception": false,
     "start_time": "2022-02-18T11:08:07.625577",
     "status": "completed"
    },
    "tags": []
   },
   "outputs": [
    {
     "data": {
      "text/plain": [
       "0.0"
      ]
     },
     "execution_count": 15,
     "metadata": {},
     "output_type": "execute_result"
    }
   ],
   "source": [
    "result = cnn.predict(val_image)\n",
    "result[0][0]"
   ]
  },
  {
   "cell_type": "code",
   "execution_count": 16,
   "id": "eef5f92b",
   "metadata": {
    "execution": {
     "iopub.execute_input": "2022-02-18T11:08:08.995915Z",
     "iopub.status.busy": "2022-02-18T11:08:08.995135Z",
     "iopub.status.idle": "2022-02-18T11:08:09.001309Z",
     "shell.execute_reply": "2022-02-18T11:08:09.001756Z",
     "shell.execute_reply.started": "2022-02-18T10:58:47.251010Z"
    },
    "papermill": {
     "duration": 0.42447,
     "end_time": "2022-02-18T11:08:09.001902",
     "exception": false,
     "start_time": "2022-02-18T11:08:08.577432",
     "status": "completed"
    },
    "tags": []
   },
   "outputs": [],
   "source": [
    "val_image2 = image.load_img('../input/cat-and-dog/test_set/test_set/dogs/dog.4021.jpg',target_size=(64,64))\n",
    "val_image2 = image.img_to_array(val_image2)\n",
    "val_image2 = np.expand_dims(val_image2,axis=0)"
   ]
  },
  {
   "cell_type": "code",
   "execution_count": 17,
   "id": "bdad600d",
   "metadata": {
    "execution": {
     "iopub.execute_input": "2022-02-18T11:08:09.836509Z",
     "iopub.status.busy": "2022-02-18T11:08:09.835703Z",
     "iopub.status.idle": "2022-02-18T11:08:09.891364Z",
     "shell.execute_reply": "2022-02-18T11:08:09.891779Z",
     "shell.execute_reply.started": "2022-02-18T10:58:47.262459Z"
    },
    "papermill": {
     "duration": 0.470445,
     "end_time": "2022-02-18T11:08:09.891929",
     "exception": false,
     "start_time": "2022-02-18T11:08:09.421484",
     "status": "completed"
    },
    "tags": []
   },
   "outputs": [
    {
     "data": {
      "text/plain": [
       "1.0"
      ]
     },
     "execution_count": 17,
     "metadata": {},
     "output_type": "execute_result"
    }
   ],
   "source": [
    "result = cnn.predict(val_image2)\n",
    "result[0][0]"
   ]
  },
  {
   "cell_type": "code",
   "execution_count": null,
   "id": "b699bee6",
   "metadata": {
    "papermill": {
     "duration": 0.41019,
     "end_time": "2022-02-18T11:08:10.726696",
     "exception": false,
     "start_time": "2022-02-18T11:08:10.316506",
     "status": "completed"
    },
    "tags": []
   },
   "outputs": [],
   "source": []
  }
 ],
 "metadata": {
  "kernelspec": {
   "display_name": "Python 3",
   "language": "python",
   "name": "python3"
  },
  "language_info": {
   "codemirror_mode": {
    "name": "ipython",
    "version": 3
   },
   "file_extension": ".py",
   "mimetype": "text/x-python",
   "name": "python",
   "nbconvert_exporter": "python",
   "pygments_lexer": "ipython3",
   "version": "3.7.12"
  },
  "papermill": {
   "default_parameters": {},
   "duration": 241.571081,
   "end_time": "2022-02-18T11:08:14.224335",
   "environment_variables": {},
   "exception": null,
   "input_path": "__notebook__.ipynb",
   "output_path": "__notebook__.ipynb",
   "parameters": {},
   "start_time": "2022-02-18T11:04:12.653254",
   "version": "2.3.3"
  }
 },
 "nbformat": 4,
 "nbformat_minor": 5
}
